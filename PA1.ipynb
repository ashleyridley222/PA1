{
 "cells": [
  {
   "cell_type": "code",
   "execution_count": 2,
   "id": "3eb4b844",
   "metadata": {},
   "outputs": [
    {
     "name": "stdout",
     "output_type": "stream",
     "text": [
      "Enter a floating point number. 44.3\n",
      "Enter an integer. 16\n",
      "the sum is  60.3\n",
      "the quotient is  2.76875\n",
      "the product is  708.8\n",
      "the difference is  28.299999999999997\n",
      "<class 'float'>\n"
     ]
    }
   ],
   "source": [
    "number=float(input(\"Enter a floating point number. \"))\n",
    "number2=int(input(\"Enter an integer. \"))\n",
    "print('the sum is ' , (number+number2))\n",
    "print('the quotient is ' , (number/number2))\n",
    "print('the product is ' , (number*number2))\n",
    "print('the difference is ' , (number-number2))\n",
    "print(type(number))"
   ]
  },
  {
   "cell_type": "markdown",
   "id": "ebedf739",
   "metadata": {},
   "source": [
    "# Programming assignement 1 of chapter 2\n",
    "# author: Ashley Ridley\n",
    "# Version 1\n",
    "# Fall semester 2022"
   ]
  },
  {
   "cell_type": "code",
   "execution_count": null,
   "id": "89b62da5",
   "metadata": {},
   "outputs": [],
   "source": []
  }
 ],
 "metadata": {
  "kernelspec": {
   "display_name": "Python 3 (ipykernel)",
   "language": "python",
   "name": "python3"
  },
  "language_info": {
   "codemirror_mode": {
    "name": "ipython",
    "version": 3
   },
   "file_extension": ".py",
   "mimetype": "text/x-python",
   "name": "python",
   "nbconvert_exporter": "python",
   "pygments_lexer": "ipython3",
   "version": "3.9.12"
  }
 },
 "nbformat": 4,
 "nbformat_minor": 5
}
